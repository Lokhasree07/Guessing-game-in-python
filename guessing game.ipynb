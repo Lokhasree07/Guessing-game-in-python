{
 "cells": [
  {
   "cell_type": "code",
   "execution_count": 1,
   "id": "77bb0c72",
   "metadata": {},
   "outputs": [],
   "source": [
    "import random"
   ]
  },
  {
   "cell_type": "code",
   "execution_count": 2,
   "id": "70b03435",
   "metadata": {},
   "outputs": [],
   "source": [
    "num = random.randint(1,101)"
   ]
  },
  {
   "cell_type": "code",
   "execution_count": 3,
   "id": "10902a56",
   "metadata": {},
   "outputs": [
    {
     "data": {
      "text/plain": [
       "3"
      ]
     },
     "execution_count": 3,
     "metadata": {},
     "output_type": "execute_result"
    }
   ],
   "source": [
    "num"
   ]
  },
  {
   "cell_type": "code",
   "execution_count": 4,
   "id": "788a6a71",
   "metadata": {},
   "outputs": [
    {
     "name": "stdout",
     "output_type": "stream",
     "text": [
      "Welcome to the Guessing game!\n",
      "The rules are:\n",
      "1)If a player's guess is less than 1 or greater than 100, say OUT OF BOUNDS\n",
      "2)On a player's first turn, if their guess is\n",
      "      within 10 of the number, return WARM\n",
      "      further than 10 away from the number, return COLD!\n",
      "3)On all subsequent turns, if a guess is \n",
      "      closer to the number than the previous guess return WARMER!\n",
      "      farther from the number than the previous guess, return COLDER!\n",
      "4)When the player's guess equals the number, tell them they've guessed correctly and how many guesses it took!\n",
      "Lets play!\n"
     ]
    }
   ],
   "source": [
    "print(\"Welcome to the Guessing game!\")\n",
    "print(\"The rules are:\")\n",
    "print(\"1)If a player's guess is less than 1 or greater than 100, say OUT OF BOUNDS\")\n",
    "print(\"2)On a player's first turn, if their guess is\")\n",
    "print(\"      within 10 of the number, return WARM\")\n",
    "print(\"      further than 10 away from the number, return COLD!\")\n",
    "print(\"3)On all subsequent turns, if a guess is \")\n",
    "print(\"      closer to the number than the previous guess return WARMER!\")\n",
    "print(\"      farther from the number than the previous guess, return COLDER!\")\n",
    "print(\"4)When the player's guess equals the number, tell them they've guessed correctly and how many guesses it took!\")\n",
    "print(\"Lets play!\")"
   ]
  },
  {
   "cell_type": "code",
   "execution_count": 5,
   "id": "1ca45490",
   "metadata": {},
   "outputs": [],
   "source": [
    "guesses = [0]"
   ]
  },
  {
   "cell_type": "code",
   "execution_count": 6,
   "id": "eb3a903d",
   "metadata": {},
   "outputs": [
    {
     "data": {
      "text/plain": [
       "[0]"
      ]
     },
     "execution_count": 6,
     "metadata": {},
     "output_type": "execute_result"
    }
   ],
   "source": [
    "guesses"
   ]
  },
  {
   "cell_type": "code",
   "execution_count": 7,
   "id": "a46678e0",
   "metadata": {},
   "outputs": [
    {
     "name": "stdout",
     "output_type": "stream",
     "text": [
      "I am thinking of a number between 1 and 100\n",
      " What is your guess?500\n",
      "Out of bounds.Please try again!\n",
      "I am thinking of a number between 1 and 100\n",
      " What is your guess?30\n"
     ]
    }
   ],
   "source": [
    "while True:\n",
    "    guess = int(input(\"I am thinking of a number between 1 and 100\\n What is your guess?\"))\n",
    "    if guess < 1 or guess > 100:\n",
    "                print(\"Out of bounds.Please try again!\")\n",
    "                continue\n",
    "    break"
   ]
  },
  {
   "cell_type": "code",
   "execution_count": 9,
   "id": "81d2fd37",
   "metadata": {},
   "outputs": [
    {
     "name": "stdout",
     "output_type": "stream",
     "text": [
      "I am thinking of a number between 1 and 100\n",
      " What is your guess?20\n",
      "Warm or cold\n",
      "I am thinking of a number between 1 and 100\n",
      " What is your guess?78\n",
      "Warm or cold\n",
      "I am thinking of a number between 1 and 100\n",
      " What is your guess?46\n",
      "Warm or cold\n",
      "I am thinking of a number between 1 and 100\n",
      " What is your guess?3\n",
      "CONGRATULATIONS, YOU GUESSED IT IN ONLY 1 GUESSES!!\n"
     ]
    }
   ],
   "source": [
    "while True:\n",
    "    guess = int(input(\"I am thinking of a number between 1 and 100\\n What is your guess?\"))\n",
    "    if guess < 1 or guess > 100:\n",
    "                print(\"Out of bounds.Please try again!\")\n",
    "                continue\n",
    "    elif guess < num and guess > 1:\n",
    "        print(\"Warmer or Colder\")\n",
    "    elif guess > num and guess < 100:\n",
    "        print(\"Warm or cold\")\n",
    "    else:\n",
    "        print(f'CONGRATULATIONS, YOU GUESSED IT IN ONLY {len(guesses)} GUESSES!!')\n",
    "        break"
   ]
  },
  {
   "cell_type": "code",
   "execution_count": 10,
   "id": "787dbfd0",
   "metadata": {},
   "outputs": [
    {
     "data": {
      "text/plain": [
       "'C:\\\\Users\\\\SRINIVASAN'"
      ]
     },
     "execution_count": 10,
     "metadata": {},
     "output_type": "execute_result"
    }
   ],
   "source": [
    "pwd"
   ]
  },
  {
   "cell_type": "code",
   "execution_count": null,
   "id": "003af66d",
   "metadata": {},
   "outputs": [],
   "source": []
  }
 ],
 "metadata": {
  "kernelspec": {
   "display_name": "Python 3 (ipykernel)",
   "language": "python",
   "name": "python3"
  },
  "language_info": {
   "codemirror_mode": {
    "name": "ipython",
    "version": 3
   },
   "file_extension": ".py",
   "mimetype": "text/x-python",
   "name": "python",
   "nbconvert_exporter": "python",
   "pygments_lexer": "ipython3",
   "version": "3.9.12"
  }
 },
 "nbformat": 4,
 "nbformat_minor": 5
}
